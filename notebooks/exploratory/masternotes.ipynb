{
 "cells": [
  {
   "cell_type": "code",
   "execution_count": 1,
   "metadata": {},
   "outputs": [
    {
     "name": "stderr",
     "output_type": "stream",
     "text": [
      "Using TensorFlow backend.\n"
     ]
    }
   ],
   "source": [
    "from __future__ import absolute_import, division, print_function, unicode_literals\n",
    "import os\n",
    "from matplotlib import pyplot as plt\n",
    "import numpy as np\n",
    "from sklearn.model_selection import train_test_split\n",
    "from sklearn import metrics\n",
    "from sklearn.preprocessing import StandardScaler\n",
    "%matplotlib inline\n",
    "\n",
    "import tensorflow as tf\n",
    "from tensorflow import keras\n",
    "import matplotlib.image as mpimg\n",
    "from keras import Sequential\n",
    "from keras.layers import Conv2D,Dense,MaxPooling2D,BatchNormalization,Flatten,Dropout\n",
    "from keras.optimizers import Adam, SGD\n",
    "from keras.callbacks import EarlyStopping"
   ]
  },
  {
   "cell_type": "code",
   "execution_count": 2,
   "metadata": {},
   "outputs": [],
   "source": [
    "base_dir, _ = os.path.splitext(\"../../../../Downloads/CellData/chest_xray\")"
   ]
  },
  {
   "cell_type": "code",
   "execution_count": 3,
   "metadata": {},
   "outputs": [
    {
     "name": "stdout",
     "output_type": "stream",
     "text": [
      "Total training normal images: 1349\n",
      "Total training pneu images: 3884\n",
      "Total test normal images: 235\n",
      "Total test pneu images: 390\n"
     ]
    }
   ],
   "source": [
    "train_dir = os.path.join(base_dir, 'train')\n",
    "test_dir = os.path.join(base_dir,'test')\n",
    "\n",
    "train_normal = os.path.join(train_dir, 'NORMAL')\n",
    "print ('Total training normal images:', len(os.listdir(train_normal)))\n",
    "train_pneu = os.path.join(train_dir, 'PNEUMONIA')\n",
    "print ('Total training pneu images:', len(os.listdir(train_pneu)))\n",
    "\n",
    "\n",
    "test_normal = os.path.join(test_dir, 'NORMAL')\n",
    "print ('Total test normal images:', len(os.listdir(test_normal)))\n",
    "test_pneu = os.path.join(test_dir, 'PNEUMONIA')\n",
    "print ('Total test pneu images:', len(os.listdir(test_pneu)))"
   ]
  },
  {
   "cell_type": "code",
   "execution_count": 4,
   "metadata": {},
   "outputs": [
    {
     "name": "stdout",
     "output_type": "stream",
     "text": [
      "Found 4187 images belonging to 2 classes.\n",
      "Found 1045 images belonging to 2 classes.\n",
      "Found 624 images belonging to 2 classes.\n"
     ]
    }
   ],
   "source": [
    "image_size = 224 # All images will be resized to 160x160\n",
    "batch_size = 32\n",
    "\n",
    "# Rescale all images by 1./255 and apply image augmentation\n",
    "train_datagen = keras.preprocessing.image.ImageDataGenerator(validation_split = .2,rescale=1./255)\n",
    "\n",
    "test_datagen = keras.preprocessing.image.ImageDataGenerator(rescale=1./255)\n",
    "\n",
    "# Flow training images in batches of 20 using train_datagen generator\n",
    "train_generator = train_datagen.flow_from_directory(\n",
    "                train_dir,  # Source directory for the training images\n",
    "                subset='training',\n",
    "                target_size=(image_size, image_size),\n",
    "                batch_size=batch_size,\n",
    "                # Since we use binary_crossentropy loss, we need binary labels\n",
    "                class_mode='binary')\n",
    "\n",
    "# Flow validation images in batches of 20 using test_datagen generator\n",
    "validation_generator = train_datagen.flow_from_directory(\n",
    "                train_dir, # Source directory for the validation images\n",
    "                subset='validation', # select validation subset\n",
    "                target_size=(image_size, image_size),\n",
    "                batch_size=batch_size,\n",
    "                class_mode='binary',\n",
    "                shuffle = False)\n",
    "\n",
    "# Flow validation images in batches of 20 using test_datagen generator\n",
    "test_generator = test_datagen.flow_from_directory(\n",
    "                test_dir, # Source directory for the validation images\n",
    "                target_size=(image_size, image_size),\n",
    "                batch_size=batch_size,\n",
    "                class_mode='binary',\n",
    "                shuffle=False)"
   ]
  },
  {
   "cell_type": "code",
   "execution_count": 5,
   "metadata": {},
   "outputs": [],
   "source": [
    "model = Sequential()"
   ]
  },
  {
   "cell_type": "code",
   "execution_count": 6,
   "metadata": {},
   "outputs": [
    {
     "name": "stdout",
     "output_type": "stream",
     "text": [
      "WARNING:tensorflow:From /opt/anaconda3/lib/python3.7/site-packages/tensorflow_core/python/ops/resource_variable_ops.py:1630: calling BaseResourceVariable.__init__ (from tensorflow.python.ops.resource_variable_ops) with constraint is deprecated and will be removed in a future version.\n",
      "Instructions for updating:\n",
      "If using Keras pass *_constraint arguments to layers.\n",
      "WARNING:tensorflow:From /opt/anaconda3/lib/python3.7/site-packages/keras/backend/tensorflow_backend.py:4070: The name tf.nn.max_pool is deprecated. Please use tf.nn.max_pool2d instead.\n",
      "\n"
     ]
    }
   ],
   "source": [
    "model.add(Conv2D(32, kernel_size = (3, 3), activation='relu', input_shape=(image_size, image_size, 3)))\n",
    "model.add(MaxPooling2D(pool_size=(2,2)))\n",
    "model.add(BatchNormalization())\n",
    "\n",
    "model.add(Conv2D(64, kernel_size=(3,3), activation='relu'))\n",
    "model.add(MaxPooling2D(pool_size=(2,2)))\n",
    "model.add(BatchNormalization())\n",
    "\n",
    "model.add(Conv2D(64, kernel_size=(3,3), activation='relu'))\n",
    "model.add(MaxPooling2D(pool_size=(2,2)))\n",
    "model.add(BatchNormalization())\n",
    "\n",
    "\n",
    "model.add(Conv2D(96, kernel_size=(3,3), activation='relu'))\n",
    "model.add(MaxPooling2D(pool_size=(2,2)))\n",
    "model.add(BatchNormalization())\n",
    "model.add(Dropout(.3))\n",
    "\n",
    "\n",
    "model.add(Conv2D(32, kernel_size=(3,3), activation='relu'))\n",
    "model.add(MaxPooling2D(pool_size=(2,2)))\n",
    "model.add(BatchNormalization())\n",
    "model.add(Dropout(0.4))\n",
    "\n",
    "model.add(Flatten())\n",
    "model.add(Dense(128, activation='relu'))\n",
    "# model.add(Dropout(0.3))\n",
    "model.add(Dense(1, activation = 'sigmoid'))"
   ]
  },
  {
   "cell_type": "code",
   "execution_count": 7,
   "metadata": {},
   "outputs": [
    {
     "name": "stdout",
     "output_type": "stream",
     "text": [
      "WARNING:tensorflow:From /opt/anaconda3/lib/python3.7/site-packages/tensorflow_core/python/ops/nn_impl.py:183: where (from tensorflow.python.ops.array_ops) is deprecated and will be removed in a future version.\n",
      "Instructions for updating:\n",
      "Use tf.where in 2.0, which has the same broadcast rule as np.where\n"
     ]
    }
   ],
   "source": [
    "model.compile(optimizer = SGD(learning_rate = .001),\n",
    "              loss='binary_crossentropy',\n",
    "              metrics=['accuracy'])"
   ]
  },
  {
   "cell_type": "code",
   "execution_count": 9,
   "metadata": {},
   "outputs": [
    {
     "name": "stdout",
     "output_type": "stream",
     "text": [
      "WARNING:tensorflow:From /opt/anaconda3/lib/python3.7/site-packages/keras/backend/tensorflow_backend.py:422: The name tf.global_variables is deprecated. Please use tf.compat.v1.global_variables instead.\n",
      "\n",
      "Epoch 1/30\n",
      "130/130 [==============================] - 148s 1s/step - loss: 0.4236 - accuracy: 0.8130 - val_loss: 0.1984 - val_accuracy: 0.7373\n",
      "Epoch 2/30\n",
      "130/130 [==============================] - 157s 1s/step - loss: 0.2821 - accuracy: 0.8823 - val_loss: 0.0746 - val_accuracy: 0.7345\n",
      "Epoch 3/30\n",
      "130/130 [==============================] - 169s 1s/step - loss: 0.2275 - accuracy: 0.9134 - val_loss: 0.0136 - val_accuracy: 0.7345\n",
      "Epoch 4/30\n",
      "130/130 [==============================] - 166s 1s/step - loss: 0.2034 - accuracy: 0.9203 - val_loss: 0.0258 - val_accuracy: 0.7345\n",
      "Epoch 5/30\n",
      "130/130 [==============================] - 164s 1s/step - loss: 0.1765 - accuracy: 0.9312 - val_loss: 0.0231 - val_accuracy: 0.8006\n",
      "Epoch 6/30\n",
      "130/130 [==============================] - 160s 1s/step - loss: 0.1645 - accuracy: 0.9372 - val_loss: 0.0104 - val_accuracy: 0.8470\n",
      "Epoch 7/30\n",
      "130/130 [==============================] - 161s 1s/step - loss: 0.1527 - accuracy: 0.9408 - val_loss: 0.2886 - val_accuracy: 0.9329\n",
      "Epoch 8/30\n",
      "130/130 [==============================] - 163s 1s/step - loss: 0.1452 - accuracy: 0.9461 - val_loss: 0.0232 - val_accuracy: 0.9546\n",
      "Epoch 9/30\n",
      "130/130 [==============================] - 165s 1s/step - loss: 0.1428 - accuracy: 0.9451 - val_loss: 0.0267 - val_accuracy: 0.9645\n",
      "Epoch 10/30\n",
      "130/130 [==============================] - 156s 1s/step - loss: 0.1245 - accuracy: 0.9567 - val_loss: 0.1942 - val_accuracy: 0.9309\n",
      "Epoch 11/30\n",
      "130/130 [==============================] - 162s 1s/step - loss: 0.1291 - accuracy: 0.9552 - val_loss: 0.0235 - val_accuracy: 0.9635\n",
      "Epoch 12/30\n",
      "130/130 [==============================] - 159s 1s/step - loss: 0.1177 - accuracy: 0.9564 - val_loss: 0.0203 - val_accuracy: 0.9319\n",
      "Epoch 13/30\n",
      "130/130 [==============================] - 168s 1s/step - loss: 0.1187 - accuracy: 0.9570 - val_loss: 0.5810 - val_accuracy: 0.8539\n",
      "Epoch 14/30\n",
      "130/130 [==============================] - 169s 1s/step - loss: 0.1069 - accuracy: 0.9614 - val_loss: 0.0132 - val_accuracy: 0.8638\n"
     ]
    }
   ],
   "source": [
    "epochs = 30\n",
    "steps_per_epoch = train_generator.n // batch_size\n",
    "validation_steps = validation_generator.n // batch_size\n",
    "# lr = ReduceLROnPlateau(monitor='val_loss', factor=0.3, patience=2, verbose=2, mode='max')\n",
    "es = EarlyStopping(monitor='val_accuracy', patience=5, restore_best_weights=True)\n",
    "cb_list = [es]\n",
    "history = model.fit(train_generator,\n",
    "                              steps_per_epoch = steps_per_epoch,\n",
    "                              epochs=epochs,\n",
    "                              validation_data=validation_generator,\n",
    "                              validation_steps=validation_steps,\n",
    "                              callbacks = cb_list )"
   ]
  },
  {
   "cell_type": "code",
   "execution_count": 11,
   "metadata": {},
   "outputs": [],
   "source": [
    "# model.save('bigdatamodel.h5')"
   ]
  },
  {
   "cell_type": "code",
   "execution_count": 12,
   "metadata": {},
   "outputs": [
    {
     "data": {
      "text/plain": [
       "array([[136,  98],\n",
       "       [  1, 389]])"
      ]
     },
     "execution_count": 12,
     "metadata": {},
     "output_type": "execute_result"
    }
   ],
   "source": [
    "predictions = []\n",
    "for x in model.predict(test_generator):\n",
    "    for z in x:\n",
    "        predictions.append(np.round(z))\n",
    "        \n",
    "metrics.confusion_matrix(test_generator.classes,predictions)"
   ]
  },
  {
   "cell_type": "code",
   "execution_count": 20,
   "metadata": {},
   "outputs": [
    {
     "data": {
      "text/plain": [
       "array([[159,  75],\n",
       "       [  5, 385]])"
      ]
     },
     "execution_count": 20,
     "metadata": {},
     "output_type": "execute_result"
    }
   ],
   "source": [
    "y_pred_new =(model.predict(test_generator)>0.66).astype(int)\n",
    "metrics.confusion_matrix(test_generator.classes,y_pred_new)"
   ]
  },
  {
   "cell_type": "code",
   "execution_count": null,
   "metadata": {},
   "outputs": [],
   "source": []
  }
 ],
 "metadata": {
  "kernelspec": {
   "display_name": "Python 3",
   "language": "python",
   "name": "python3"
  },
  "language_info": {
   "codemirror_mode": {
    "name": "ipython",
    "version": 3
   },
   "file_extension": ".py",
   "mimetype": "text/x-python",
   "name": "python",
   "nbconvert_exporter": "python",
   "pygments_lexer": "ipython3",
   "version": "3.7.4"
  }
 },
 "nbformat": 4,
 "nbformat_minor": 4
}
